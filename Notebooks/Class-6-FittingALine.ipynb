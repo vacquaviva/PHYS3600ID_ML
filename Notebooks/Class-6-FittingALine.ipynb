{
 "cells": [
  {
   "cell_type": "code",
   "execution_count": null,
   "metadata": {
    "collapsed": true
   },
   "outputs": [],
   "source": [
    "import numpy as np\n",
    "import matplotlib.pyplot as plt\n",
    "%matplotlib inline\n",
    "\n",
    "np.random.seed(15) #set seed for reproducibility purposes\n",
    "x = np.arange(10) \n",
    "y = 2*x + 5 + np.random.randn(10) #generate some data with random gaussian scatter\n",
    "dy = np.random.rand(10) #these are the uncertainties"
   ]
  },
  {
   "cell_type": "code",
   "execution_count": null,
   "metadata": {},
   "outputs": [],
   "source": [
    "plt.scatter(x,y,marker='.',c='k');"
   ]
  },
  {
   "cell_type": "code",
   "execution_count": null,
   "metadata": {},
   "outputs": [],
   "source": [
    "plt.errorbar(x,y,yerr=dy,marker='.',c='k',ls='None');"
   ]
  },
  {
   "cell_type": "code",
   "execution_count": null,
   "metadata": {
    "collapsed": true
   },
   "outputs": [],
   "source": [
    "# This fits the data without taking uncertainties into account\n",
    "from scipy import stats\n",
    "slope, intercept, r_value, p_value, std_err = stats.linregress(x, y)"
   ]
  },
  {
   "cell_type": "code",
   "execution_count": null,
   "metadata": {},
   "outputs": [],
   "source": [
    "slope, intercept"
   ]
  },
  {
   "cell_type": "code",
   "execution_count": null,
   "metadata": {},
   "outputs": [],
   "source": [
    "plt.scatter(x,y,marker='.',c='k')\n",
    "plt.plot(x, slope*x+intercept,'r-',label = 'Fit with no errors');"
   ]
  },
  {
   "cell_type": "code",
   "execution_count": null,
   "metadata": {},
   "outputs": [],
   "source": [
    "slope2,intercept2 = np.polyfit(x,y,deg=1,w=1/dy)\n",
    "slope2, intercept2"
   ]
  },
  {
   "cell_type": "code",
   "execution_count": null,
   "metadata": {},
   "outputs": [],
   "source": [
    "plt.errorbar(x,y,yerr=dy,marker='.',c='k',ls='None');\n",
    "plt.plot(x, slope*x+intercept,'r-',label = 'Fit with no errors')\n",
    "plt.plot(x, slope2*x+intercept2,'g-',label = 'Fit with errors')\n",
    "plt.legend();\n"
   ]
  },
  {
   "cell_type": "markdown",
   "metadata": {},
   "source": [
    "### Model fitting from scratch. "
   ]
  },
  {
   "cell_type": "markdown",
   "metadata": {},
   "source": [
    "Let's now implement the chi2 approach.\n",
    "\n",
    "The parameters I want to fit are slope, intercept.\n",
    "\n",
    "Just by looking at the data I can tell that the slope should be somewhere between 1 and 3, and the intercept between 2.5 and 6.5.\n",
    "\n",
    "Our grid of possible models would then be"
   ]
  },
  {
   "cell_type": "code",
   "execution_count": null,
   "metadata": {
    "collapsed": true
   },
   "outputs": [],
   "source": [
    "slopes = np.linspace(1,3,100) \n",
    "intercepts = np.linspace(2.5,6.5,100)\n",
    "#note: these are already 10,000 models (curse of dimensionality!)"
   ]
  },
  {
   "cell_type": "markdown",
   "metadata": {},
   "source": [
    "For convenience, we can define two functions that describe our model (a straight line) and the chi2 function:"
   ]
  },
  {
   "cell_type": "code",
   "execution_count": null,
   "metadata": {
    "collapsed": true
   },
   "outputs": [],
   "source": [
    "def model(x,m,b):\n",
    "    return m*x+b #straight line\n",
    "\n",
    "def chi2(m,b,x,y,err):\n",
    "    return np.sum(((model(x,m,b) - y)**2)/err**2)"
   ]
  },
  {
   "cell_type": "markdown",
   "metadata": {},
   "source": [
    "This line calculate chi2 values for our 10,000 combinations"
   ]
  },
  {
   "cell_type": "code",
   "execution_count": null,
   "metadata": {
    "collapsed": true
   },
   "outputs": [],
   "source": [
    "allchi2 = np.array([[chi2(m,b,x,y,dy) for m in slopes] for b in intercepts])"
   ]
  },
  {
   "cell_type": "code",
   "execution_count": null,
   "metadata": {},
   "outputs": [],
   "source": [
    "allchi2.shape"
   ]
  },
  {
   "cell_type": "markdown",
   "metadata": {},
   "source": [
    "The next step is to figure out what (slope,intercept) pair gives the minimum chi2. This can be done with np.argmin \n",
    "but the index of the minimum is calculated after flattening the array, so we need to use a trick to get the indices for rows and columns."
   ]
  },
  {
   "cell_type": "code",
   "execution_count": null,
   "metadata": {},
   "outputs": [],
   "source": [
    "print(allchi2.min()) #min chi2 value\n",
    "print(allchi2.argmin()) #index of min on flattened array\n",
    "print(np.unravel_index(allchi2.argmin(), allchi2.shape)) #indices of minimum value as a (row, col) pair"
   ]
  },
  {
   "cell_type": "code",
   "execution_count": null,
   "metadata": {},
   "outputs": [],
   "source": [
    "#note that the inner (second) index is for slopes, the outer(first) index is for intercepts\n",
    "\n",
    "print(slopes[57],intercepts[18]) #comes up pretty close to the result of np.polyfit."
   ]
  },
  {
   "cell_type": "code",
   "execution_count": null,
   "metadata": {
    "collapsed": true
   },
   "outputs": [],
   "source": []
  }
 ],
 "metadata": {
  "kernelspec": {
   "display_name": "Python 3",
   "language": "python",
   "name": "python3"
  },
  "language_info": {
   "codemirror_mode": {
    "name": "ipython",
    "version": 3
   },
   "file_extension": ".py",
   "mimetype": "text/x-python",
   "name": "python",
   "nbconvert_exporter": "python",
   "pygments_lexer": "ipython3",
   "version": "3.4.3"
  }
 },
 "nbformat": 4,
 "nbformat_minor": 2
}
