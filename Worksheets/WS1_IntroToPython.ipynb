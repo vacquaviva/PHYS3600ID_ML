{
 "cells": [
  {
   "cell_type": "markdown",
   "metadata": {},
   "source": [
    "### Worksheet 1 exercises - due Sep 27 @ 2pm"
   ]
  },
  {
   "cell_type": "markdown",
   "metadata": {},
   "source": [
    "#### Please upload to Blackboard the .ipynb file, containing your last name."
   ]
  },
  {
   "cell_type": "markdown",
   "metadata": {},
   "source": [
    "#### Original work statement: \n",
    "\n",
    "Please write your name here to indicate that your worksheet is the result of your own work, and you have not copied from sources without citing them (this is plagiarism and is not acceptable). Identical or very similar worksheet will share the credit.\n",
    "\n",
    "#### Your name: "
   ]
  },
  {
   "cell_type": "markdown",
   "metadata": {},
   "source": [
    "1\\. Form the following 2-D array, without typing it in explicitly: (hint: use .reshape)\n",
    "\n",
    "array<br>\n",
    "       ([[ 1,  3,  5], <br>\n",
    "       [ 7,  9, 11], <br>\n",
    "       [13, 15, 17], <br>\n",
    "       [19, 21, 23], <br>\n",
    "       [25, 27, 29]]) "
   ]
  },
  {
   "cell_type": "markdown",
   "metadata": {},
   "source": [
    "2\\. Form a new array that contains the first two rows and columns of the one above."
   ]
  },
  {
   "cell_type": "markdown",
   "metadata": {},
   "source": [
    "3\\. Create a numpy array that contains the 26 letters of the alphabet, without typing. Hint: you can obtain a string with all the letters by using string, the text manipulation module, and typing:\n",
    "\n",
    "import string \n",
    "\n",
    "x = string.ascii_lowercase"
   ]
  },
  {
   "cell_type": "markdown",
   "metadata": {},
   "source": [
    "4\\. Create an array containing 26 random numbers between 0 and 1, filter out those that are > 0.5, and return the set of letters from the array above corresponding to those indices (in other words, apply the same mask to the array above. Bonus points if you can do it with a one liner)."
   ]
  },
  {
   "cell_type": "markdown",
   "metadata": {},
   "source": [
    "5\\. The code below (from the matplotlib tutorial page, https://matplotlib.org/tutorials/introductory/sample_plots.html#sphx-glr-tutorials-introductory-sample-plots-py) shows an example of how to make subplots. Add a comment after every line of code to explain what it does."
   ]
  },
  {
   "cell_type": "code",
   "execution_count": 1,
   "metadata": {},
   "outputs": [
    {
     "data": {
      "image/png": "[encoded data removed]",
      "text/plain": [
       "<Figure size 432x288 with 2 Axes>"
      ]
     },
     "metadata": {},
     "output_type": "display_data"
    }
   ],
   "source": [
    "import numpy as np\n",
    "import matplotlib.pyplot as plt\n",
    "\n",
    "\n",
    "x1 = np.linspace(0.0, 5.0)\n",
    "x2 = np.linspace(0.0, 2.0)\n",
    "\n",
    "y1 = np.cos(2 * np.pi * x1) * np.exp(-x1)\n",
    "y2 = np.cos(2 * np.pi * x2)\n",
    "\n",
    "plt.subplot(2, 1, 1)\n",
    "plt.plot(x1, y1, 'o-')\n",
    "plt.title('A tale of 2 subplots')\n",
    "plt.ylabel('Damped oscillation')\n",
    "\n",
    "plt.subplot(2, 1, 2)\n",
    "plt.plot(x2, y2, '.-')\n",
    "plt.xlabel('time (s)')\n",
    "plt.ylabel('Undamped')\n",
    "\n",
    "plt.show()"
   ]
  },
  {
   "cell_type": "markdown",
   "metadata": {},
   "source": [
    "6\\. Read into a numpy array the data set \"HIP_star.dat\". This data set contains information about stars; we are only interested in columns \"Vmag\", 'Plx', and \"B-V\", so make sure you only read those. Hint: open the file with a text editor first, to see if/how many lines you need to skip.\n",
    "\n",
    "http://astrostatistics.psu.edu/datasets/HIP_star.html\n",
    "\n",
    "\n"
   ]
  },
  {
   "cell_type": "code",
   "execution_count": 4,
   "metadata": {
    "collapsed": true
   },
   "outputs": [],
   "source": [
    "d = np.genfromtxt('HIP_star.dat', usecols=(1,4,8), skip_header=1)"
   ]
  },
  {
   "cell_type": "code",
   "execution_count": 5,
   "metadata": {},
   "outputs": [
    {
     "data": {
      "text/plain": [
       "array([[ 9.27 , 21.9  ,  0.999],\n",
       "       [ 8.65 , 23.84 ,  0.778],\n",
       "       [10.78 , 24.45 ,  1.15 ],\n",
       "       ...,\n",
       "       [ 8.16 , 22.91 ,  0.652],\n",
       "       [ 7.72 , 22.19 ,  0.563],\n",
       "       [11.85 , 24.63 ,  1.391]])"
      ]
     },
     "execution_count": 5,
     "metadata": {},
     "output_type": "execute_result"
    }
   ],
   "source": [
    "d"
   ]
  },
  {
   "cell_type": "markdown",
   "metadata": {},
   "source": [
    "7\\. Calculate the shape of your array."
   ]
  },
  {
   "cell_type": "markdown",
   "metadata": {},
   "source": [
    "8\\. Define a function, logL, that calculates the (log of) a star's luminosity starting from Vmag (the visual brightness) and Plx (the parallax angle, which is inversely proportional to a star's distance). The function should implement the following relationship:\n",
    "\n",
    "LogL = (15 - Vmag - 5 * log(Plx))/2.5\n",
    "\n",
    "Hint: To implement Log = base 10 log, you can use the function np.log10().\n",
    "\n",
    "\n"
   ]
  },
  {
   "cell_type": "markdown",
   "metadata": {},
   "source": [
    "9\\. Make sure your function is vectorized (feed it a vector as argument and check that it runs).\n",
    "\n",
    "\n"
   ]
  },
  {
   "cell_type": "markdown",
   "metadata": {},
   "source": [
    "10\\. Make a scatter plot that has B-V for the stars on the x axis (make sure you index your array correctly!), and their log luminosity (calculated using the function you just made) on the y axis. This is called a H-R diagram (Hertzsprung Russell diagram). It encodes information about the temperature of stars (expressed by color, or B-V) and their luminosity. \n",
    "\n",
    "Add axes titles: B-V for the x axis, Log L (as appropriate) for y axis\n",
    "\n",
    "Adjust axes limits to be [-0.5,3] for B-V, [-3, 4] for log L\n",
    "\n"
   ]
  },
  {
   "cell_type": "markdown",
   "metadata": {},
   "source": [
    "11\\. Add information to the above plot using colors and sizes. Make a scatter plot with colors arranged according to Vmag, and another scatter plot where the size of the markers is proportional to the Vmag of each point.\n",
    "\n",
    "\n"
   ]
  },
  {
   "cell_type": "markdown",
   "metadata": {},
   "source": [
    "12\\. Visualize B-V as a histogram.\n",
    "\n",
    "\n"
   ]
  },
  {
   "cell_type": "markdown",
   "metadata": {},
   "source": [
    "13\\. For the B-V array, calculate its mean and its median, and its standard deviation.\n",
    "\n",
    "\n"
   ]
  },
  {
   "cell_type": "markdown",
   "metadata": {},
   "source": [
    "Extra points:\n",
    "\n",
    "14\\. Calculate the 10 and 90 percentile levels of the B-V array, and explain what they are. \n",
    "\n"
   ]
  },
  {
   "cell_type": "markdown",
   "metadata": {},
   "source": [
    "15\\. Are the mean and the median different? In either case, what does this tell us about the distribution?\n"
   ]
  },
  {
   "cell_type": "code",
   "execution_count": null,
   "metadata": {
    "collapsed": true
   },
   "outputs": [],
   "source": []
  }
 ],
 "metadata": {
  "kernelspec": {
   "display_name": "Python 3",
   "language": "python",
   "name": "python3"
  },
  "language_info": {
   "codemirror_mode": {
    "name": "ipython",
    "version": 3
   },
   "file_extension": ".py",
   "mimetype": "text/x-python",
   "name": "python",
   "nbconvert_exporter": "python",
   "pygments_lexer": "ipython3",
   "version": "3.4.3"
  }
 },
 "nbformat": 4,
 "nbformat_minor": 2
}
